{
 "cells": [
  {
   "cell_type": "code",
   "execution_count": 91,
   "metadata": {},
   "outputs": [],
   "source": [
    "from PIL import Image\n",
    "pil_im = Image.open('C:\\\\Users\\\\ACER\\\\Desktop\\\\website.jpg')   #Import Image from local system\n",
    "#pil_im   #Uncomment to display image"
   ]
  },
  {
   "cell_type": "code",
   "execution_count": 92,
   "metadata": {},
   "outputs": [],
   "source": [
    "#pil_im.convert('L')   #Convert image to greyscale\n",
    "                       #Uncomment to view\n",
    "                       #Use save() to save converted image"
   ]
  },
  {
   "cell_type": "code",
   "execution_count": 93,
   "metadata": {},
   "outputs": [],
   "source": [
    "#pil_im.thumbnail((300,300)) #takes a tuple specifying the new size and \n",
    "                            #converts the image to a thumbnail image \n",
    "                            #with size that fits within the tuple"
   ]
  },
  {
   "cell_type": "code",
   "execution_count": 94,
   "metadata": {},
   "outputs": [],
   "source": [
    "box = (100,100,400,400)   #To crop an image in PIL use crop()\n",
    "region = pil_im.crop(box) #It takes 4 co-ordinates as input. Starting from top left corner\n",
    "#region                   #Uncomment to view cropped region"
   ]
  },
  {
   "cell_type": "code",
   "execution_count": 95,
   "metadata": {},
   "outputs": [],
   "source": [
    "region = region.transpose(Image.ROTATE_180)  #Here the cropped part of image gets rotated 180 degrees\n",
    "#pil_im.paste(region,box)                    #After rotating, we paste it at original position\n",
    "#pil_im                                      #Uncomment to view image"
   ]
  },
  {
   "cell_type": "code",
   "execution_count": 96,
   "metadata": {},
   "outputs": [],
   "source": [
    "out = pil_im.resize((1500,1500))   #To resize the image\n",
    "#out                               #Uncomment to view"
   ]
  },
  {
   "cell_type": "code",
   "execution_count": 97,
   "metadata": {},
   "outputs": [],
   "source": [
    "out = pil_im.rotate(45)            #To rotate the image\n",
    "#out                               #Uncomment to view"
   ]
  },
  {
   "cell_type": "code",
   "execution_count": null,
   "metadata": {},
   "outputs": [],
   "source": []
  }
 ],
 "metadata": {
  "kernelspec": {
   "display_name": "Python 3",
   "language": "python",
   "name": "python3"
  },
  "language_info": {
   "codemirror_mode": {
    "name": "ipython",
    "version": 3
   },
   "file_extension": ".py",
   "mimetype": "text/x-python",
   "name": "python",
   "nbconvert_exporter": "python",
   "pygments_lexer": "ipython3",
   "version": "3.8.3"
  }
 },
 "nbformat": 4,
 "nbformat_minor": 4
}
